{
 "cells": [
  {
   "cell_type": "code",
   "execution_count": null,
   "id": "b2eb071f",
   "metadata": {},
   "outputs": [],
   "source": [
    "from sklearn import datasets\n",
    "import numpy as np\n",
    "import matplotlib.pyplot as plt\n",
    "\n",
    "iris = datasets.load_iris()\n",
    "x = iris.data[:,[2,3]]\n",
    "y = iris.target\n",
    "#z = np.polyfit(x, y, 1)\n",
    "#p = np.poly1d(z)\n",
    "\n",
    "plt.figure()\n",
    "plt.scatter(x)\n",
    "#plt.plot(x, p(x), 'r--')"
   ]
  }
 ],
 "metadata": {
  "kernelspec": {
   "display_name": ".venv",
   "language": "python",
   "name": "python3"
  },
  "language_info": {
   "codemirror_mode": {
    "name": "ipython",
    "version": 3
   },
   "file_extension": ".py",
   "mimetype": "text/x-python",
   "name": "python",
   "nbconvert_exporter": "python",
   "pygments_lexer": "ipython3",
   "version": "3.12.7"
  }
 },
 "nbformat": 4,
 "nbformat_minor": 5
}
